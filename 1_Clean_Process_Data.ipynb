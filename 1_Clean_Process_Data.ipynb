{
 "cells": [
  {
   "cell_type": "markdown",
   "metadata": {},
   "source": [
    "# Imports"
   ]
  },
  {
   "cell_type": "code",
   "execution_count": 1,
   "metadata": {},
   "outputs": [
    {
     "name": "stdout",
     "output_type": "stream",
     "text": [
      "Python Version: 3.6.5 |Anaconda, Inc.| (default, Apr 29 2018, 16:14:56) \n",
      "[GCC 7.2.0] \n",
      "\n",
      "Numpy Version: 1.16.4\n",
      "Pandas Version: 0.23.0\n"
     ]
    }
   ],
   "source": [
    "import numpy as np\n",
    "import pandas as pd\n",
    "import sys\n",
    "libraries = (('Numpy', np), ('Pandas', pd))\n",
    "\n",
    "print(\"Python Version:\", sys.version, '\\n')\n",
    "for lib in libraries:\n",
    "    print('{0} Version: {1}'.format(lib[0], lib[1].__version__))"
   ]
  },
  {
   "cell_type": "code",
   "execution_count": 2,
   "metadata": {},
   "outputs": [],
   "source": [
    "import CollectData as cd\n",
    "import GenerateFeatures as gf\n",
    "import VWTxt as vt\n",
    "\n",
    "sys.path.append('../MyModules/')\n",
    "import UnZipper as uz"
   ]
  },
  {
   "cell_type": "markdown",
   "metadata": {},
   "source": [
    "# Unzip Data Files\n",
    "Data for this project came from the [Genia version 3.02 corpus](http://www.nactem.ac.uk/tsujii/GENIA/ERtask/report.html) which contains abstracts found on Medline. The designated training set contained 2000 abstracts, while the designated testing set contained 404 abstracts."
   ]
  },
  {
   "cell_type": "code",
   "execution_count": 3,
   "metadata": {},
   "outputs": [],
   "source": [
    "# uz.untar('Genia4ERtraining.tar.gz', 'data')"
   ]
  },
  {
   "cell_type": "code",
   "execution_count": 4,
   "metadata": {},
   "outputs": [],
   "source": [
    "# uz.untar('Genia4ERtest.tar.gz', 'data')"
   ]
  },
  {
   "cell_type": "markdown",
   "metadata": {},
   "source": [
    "# Generate Train & Test txt files\n",
    "I will approach this project 2 ways:\n",
    "1. 1 model with all 5 entities, which will be 11 classes.\n",
    "2. 5 separate models, 1 model per entity, which will be 3 classes per model. \n",
    "\n",
    "The original dataset included Medline abstract IDs and rows of words & [IOB tags](https://en.wikipedia.org/wiki/Inside%E2%80%93outside%E2%80%93beginning_(tagging)). In order to generate features for each word, all the words must be grouped back together into paragraph structure, preserving the sentences.  The texts were then tokenized with SpaCy. Each SpaCy token are robust objects containing the original text, lemmas, pos tags, entity types, and so much more. This SpaCy generated information for each word will be the features for the Vowpal Wabbit models."
   ]
  },
  {
   "cell_type": "markdown",
   "metadata": {},
   "source": [
    "##  Approach 1: All 5 entities\n",
    "\n",
    "To generate a train txt with all 5 entities, a dictionary of IOB tags to number labels does not need to be provided. The function will automatically create one as it generates the train txt. But the test txt and train txt must have the same relationship of IOB tags to number labels. So, when generating test txt, the IOB dictionary created from the train txt generation must be passed to the text txt generation. "
   ]
  },
  {
   "cell_type": "markdown",
   "metadata": {},
   "source": [
    "### 1.1 Train Txt"
   ]
  },
  {
   "cell_type": "code",
   "execution_count": 5,
   "metadata": {},
   "outputs": [
    {
     "name": "stdout",
     "output_type": "stream",
     "text": [
      "2000\n",
      "{'O': 1, 'B-DNA': 2, 'I-DNA': 3, 'B-protein': 4, 'I-protein': 5, 'B-cell_type': 6, 'I-cell_type': 7, 'B-cell_line': 8, 'I-cell_line': 9, 'B-RNA': 10, 'I-RNA': 11}\n"
     ]
    }
   ],
   "source": [
    "txtlines = cd.collect_lines_from_file('data/Genia4ERtask2.iob2')\n",
    "data = cd.grab_words_tags_from_lines(txtlines)\n",
    "train_data = gf.split_text_to_match_tokens(data)\n",
    "\n",
    "train_IOB_dict = vt.make_vw_txt('data/vw_train.txt', list(train_data.keys()), train_data)\n",
    "print(train_IOB_dict)"
   ]
  },
  {
   "cell_type": "markdown",
   "metadata": {},
   "source": [
    "### 1.2 Test Txt"
   ]
  },
  {
   "cell_type": "code",
   "execution_count": 6,
   "metadata": {},
   "outputs": [
    {
     "name": "stdout",
     "output_type": "stream",
     "text": [
      "404\n"
     ]
    }
   ],
   "source": [
    "txtlines = cd.collect_lines_from_file('data/Genia4EReval2.iob2')\n",
    "data = cd.grab_words_tags_from_lines(txtlines)\n",
    "test_data = gf.split_text_to_match_tokens(data)\n",
    "\n",
    "test_IOB_dict = vt.make_vw_txt('data/vw_test.txt', list(test_data.keys()), test_data, train_IOB_dict)"
   ]
  },
  {
   "cell_type": "markdown",
   "metadata": {},
   "source": [
    "## Approach 2:  1 entity at a time\n",
    "\n",
    "A pair to train & test txts must be generated for each model to predict only 1 entity at a time. These txts must have the same a dictionary of IOB tag. Within that dictionary, the \"B-\" tag or beginning of the targeted entity must be labeled as \"2\" and the \"I-\" tag or insided of the targeted entity must be labeled as \"3\". All other tags must be labeled as \"1\".  "
   ]
  },
  {
   "cell_type": "markdown",
   "metadata": {},
   "source": [
    "### 2.1 Protein"
   ]
  },
  {
   "cell_type": "code",
   "execution_count": 7,
   "metadata": {},
   "outputs": [],
   "source": [
    "IOB_dict = {'O': 1, 'B-protein': 2, 'I-protein': 3, \\\n",
    "            'B-cell_line': 1, 'I-cell_line': 1, \\\n",
    "            'B-cell_type': 1, 'I-cell_type': 1, \\\n",
    "            'B-RNA': 1, 'I-RNA': 1, \\\n",
    "            'B-DNA': 1, 'I-DNA': 1}\n",
    "train_address = 'data/protein_train.txt'\n",
    "test_address = 'data/protein_test.txt'\n",
    "\n",
    "_ = vt.make_vw_txt(train_address, list(train_data.keys()), train_data, IOB_dict)\n",
    "_ = vt.make_vw_txt(test_address, list(test_data.keys()), test_data, IOB_dict)"
   ]
  },
  {
   "cell_type": "markdown",
   "metadata": {},
   "source": [
    "### 2.2 Cell line"
   ]
  },
  {
   "cell_type": "code",
   "execution_count": 8,
   "metadata": {},
   "outputs": [],
   "source": [
    "IOB_dict = {'O': 1, 'B-protein': 1, 'I-protein': 1, \\\n",
    "            'B-cell_line': 2, 'I-cell_line': 3, \\\n",
    "            'B-cell_type': 1, 'I-cell_type': 1, \\\n",
    "            'B-RNA': 1, 'I-RNA': 1, \\\n",
    "            'B-DNA': 1, 'I-DNA': 1}\n",
    "train_address = 'data/cellline_train.txt'\n",
    "test_address = 'data/cellline_test.txt'\n",
    "\n",
    "_ = vt.make_vw_txt(train_address, list(train_data.keys()), train_data, IOB_dict)\n",
    "_ = vt.make_vw_txt(test_address, list(test_data.keys()), test_data, IOB_dict)"
   ]
  },
  {
   "cell_type": "markdown",
   "metadata": {},
   "source": [
    "### 2.3 Cell type"
   ]
  },
  {
   "cell_type": "code",
   "execution_count": 9,
   "metadata": {},
   "outputs": [],
   "source": [
    "IOB_dict = {'O': 1, 'B-protein': 1, 'I-protein': 1, \\\n",
    "            'B-cell_line': 1, 'I-cell_line': 1, \\\n",
    "            'B-cell_type': 2, 'I-cell_type': 3, \\\n",
    "            'B-RNA': 1, 'I-RNA': 1, \\\n",
    "            'B-DNA': 1, 'I-DNA': 1}\n",
    "train_address = 'data/celltype_train.txt'\n",
    "test_address = 'data/celltype_test.txt'\n",
    "\n",
    "_ = vt.make_vw_txt(train_address, list(train_data.keys()), train_data, IOB_dict)\n",
    "_ = vt.make_vw_txt(test_address, list(test_data.keys()), test_data, IOB_dict)"
   ]
  },
  {
   "cell_type": "markdown",
   "metadata": {},
   "source": [
    "### 2.4 RNA"
   ]
  },
  {
   "cell_type": "code",
   "execution_count": 10,
   "metadata": {},
   "outputs": [],
   "source": [
    "IOB_dict = {'O': 1, 'B-protein': 1, 'I-protein': 1, \\\n",
    "            'B-cell_line': 1, 'I-cell_line': 1, \\\n",
    "            'B-cell_type': 1, 'I-cell_type': 1, \\\n",
    "            'B-RNA': 2, 'I-RNA': 3, \\\n",
    "            'B-DNA': 1, 'I-DNA': 1}\n",
    "train_address = 'data/RNA_train.txt'\n",
    "test_address = 'data/RNA_test.txt'\n",
    "\n",
    "_ = vt.make_vw_txt(train_address, list(train_data.keys()), train_data, IOB_dict)\n",
    "_ = vt.make_vw_txt(test_address, list(test_data.keys()), test_data, IOB_dict)"
   ]
  },
  {
   "cell_type": "markdown",
   "metadata": {},
   "source": [
    "### 2.5 DNA"
   ]
  },
  {
   "cell_type": "code",
   "execution_count": 11,
   "metadata": {},
   "outputs": [],
   "source": [
    "IOB_dict = {'O': 1, 'B-protein': 1, 'I-protein': 1, \\\n",
    "            'B-cell_line': 1, 'I-cell_line': 1, \\\n",
    "            'B-cell_type': 1, 'I-cell_type': 1, \\\n",
    "            'B-RNA': 1, 'I-RNA': 1, \\\n",
    "            'B-DNA': 2, 'I-DNA': 3}\n",
    "train_address = 'data/DNA_train.txt'\n",
    "test_address = 'data/DNA_test.txt'\n",
    "\n",
    "_ = vt.make_vw_txt(train_address, list(train_data.keys()), train_data, IOB_dict)\n",
    "_ = vt.make_vw_txt(test_address, list(test_data.keys()), test_data, IOB_dict)"
   ]
  }
 ],
 "metadata": {
  "kernelspec": {
   "display_name": "Python 3",
   "language": "python",
   "name": "python3"
  },
  "language_info": {
   "codemirror_mode": {
    "name": "ipython",
    "version": 3
   },
   "file_extension": ".py",
   "mimetype": "text/x-python",
   "name": "python",
   "nbconvert_exporter": "python",
   "pygments_lexer": "ipython3",
   "version": "3.6.5"
  },
  "toc": {
   "base_numbering": 1,
   "nav_menu": {},
   "number_sections": true,
   "sideBar": true,
   "skip_h1_title": false,
   "title_cell": "Table of Contents",
   "title_sidebar": "Contents",
   "toc_cell": false,
   "toc_position": {},
   "toc_section_display": true,
   "toc_window_display": false
  },
  "varInspector": {
   "cols": {
    "lenName": 16,
    "lenType": 16,
    "lenVar": 40
   },
   "kernels_config": {
    "python": {
     "delete_cmd_postfix": "",
     "delete_cmd_prefix": "del ",
     "library": "var_list.py",
     "varRefreshCmd": "print(var_dic_list())"
    },
    "r": {
     "delete_cmd_postfix": ") ",
     "delete_cmd_prefix": "rm(",
     "library": "var_list.r",
     "varRefreshCmd": "cat(var_dic_list()) "
    }
   },
   "types_to_exclude": [
    "module",
    "function",
    "builtin_function_or_method",
    "instance",
    "_Feature"
   ],
   "window_display": false
  }
 },
 "nbformat": 4,
 "nbformat_minor": 2
}
