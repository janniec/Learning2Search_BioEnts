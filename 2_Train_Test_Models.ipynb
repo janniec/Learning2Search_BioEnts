{
 "cells": [
  {
   "cell_type": "markdown",
   "metadata": {},
   "source": [
    "# Imports"
   ]
  },
  {
   "cell_type": "code",
   "execution_count": 1,
   "metadata": {},
   "outputs": [
    {
     "name": "stdout",
     "output_type": "stream",
     "text": [
      "Python Version: 3.6.5 |Anaconda, Inc.| (default, Apr 29 2018, 16:14:56) \n",
      "[GCC 7.2.0] \n",
      "\n",
      "Numpy Version: 1.16.4\n",
      "Pandas Version: 0.23.0\n"
     ]
    }
   ],
   "source": [
    "import numpy as np\n",
    "import pandas as pd\n",
    "import sys\n",
    "libraries = (('Numpy', np), ('Pandas', pd))\n",
    "\n",
    "print(\"Python Version:\", sys.version, '\\n')\n",
    "for lib in libraries:\n",
    "    print('{0} Version: {1}'.format(lib[0], lib[1].__version__))\n",
    "\n",
    "import VWCommands as vwc"
   ]
  },
  {
   "cell_type": "markdown",
   "metadata": {},
   "source": [
    "# Function"
   ]
  },
  {
   "cell_type": "code",
   "execution_count": 2,
   "metadata": {},
   "outputs": [],
   "source": [
    "def train_test_vw(train_address, num_labels, \\\n",
    "                  rollin, rollout, epochs, lr, \\\n",
    "                  affix, history, neighbor):\n",
    "    '''\n",
    "    Trains a Vowpal Wabbit model, tests model, generates predictions and raw scores. \n",
    "    Evaluates predictions using SkLearn.\n",
    "    train_address - where to import the training data from.\n",
    "    num_labels - number of classes in the dataset.\n",
    "    rollin - Rollin Policy, 'learn' is recommended.\n",
    "    rollout - Rollout Policy, 'mix' or maybe 'ref' are recommended.\n",
    "    epoch - number of passes over the training data.\n",
    "    lr - step size to convergance in stochastic gradient descent.\n",
    "    affix - trains on the prefixes/suffixes of features.\n",
    "    history - trains on previous features.\n",
    "    neighbor -  trains on neighboring predictions. \n",
    "    OUT: prints & outputs the mean scores from evaluation using SkLearn.    \n",
    "    '''\n",
    "    fscore, precision, recall = vwc.single_experiment(train_address, num_labels, \\\n",
    "                  rollin, rollout, \\\n",
    "                  epochs, lr, affix, history, neighbor)\n",
    "    print('fscore: {}'.format(fscore.mean()))\n",
    "    print('precision: {}'.format(precision.mean()))\n",
    "    print('recall: {}'.format(recall.mean()))\n",
    "    \n",
    "    return fscore.mean(), precision.mean(), recall.mean()"
   ]
  },
  {
   "cell_type": "markdown",
   "metadata": {},
   "source": [
    "# Approach 1: Train Test 5 Entities\n",
    "A model trained on only 2000 abstracts was insufficient to predict so many classes. Either the pattern of text between the entities needed to be more formulaic or we needed more data to predict the relationship among the classes.   "
   ]
  },
  {
   "cell_type": "code",
   "execution_count": 3,
   "metadata": {},
   "outputs": [
    {
     "name": "stdout",
     "output_type": "stream",
     "text": [
      "fscore: 0.5369741640914729\n",
      "precision: 0.7125558633703833\n",
      "recall: 0.46822367466210574\n"
     ]
    }
   ],
   "source": [
    "_, _, _ = train_test_vw('data/vw_train.txt', 11, \\\n",
    "                        'learn', 'mix', 1, 0.5, 1, 2, 1)"
   ]
  },
  {
   "cell_type": "markdown",
   "metadata": {},
   "source": [
    "# Approach 2: Train Test 1 Entities\n",
    "This method proved more successful. Each model was custom fit to each entity using the ExperimentSweep module. "
   ]
  },
  {
   "cell_type": "code",
   "execution_count": 4,
   "metadata": {},
   "outputs": [],
   "source": [
    "all_fscore = []\n",
    "all_precision = []\n",
    "all_recall = []"
   ]
  },
  {
   "cell_type": "markdown",
   "metadata": {},
   "source": [
    "## 2.1 Protein"
   ]
  },
  {
   "cell_type": "code",
   "execution_count": 5,
   "metadata": {},
   "outputs": [
    {
     "name": "stdout",
     "output_type": "stream",
     "text": [
      "fscore: 0.7567613845288713\n",
      "precision: 0.8063454822590375\n",
      "recall: 0.7265000650321212\n"
     ]
    }
   ],
   "source": [
    "fscore, precision, recall = train_test_vw('data/protein_train.txt', 3,\\\n",
    "                                          'learn', 'ref', 6, 0.1, 6, 4, 1)\n",
    "all_fscore.append(fscore)\n",
    "all_precision.append(precision)\n",
    "all_recall.append(recall)"
   ]
  },
  {
   "cell_type": "markdown",
   "metadata": {},
   "source": [
    "## 2.2 Cell line"
   ]
  },
  {
   "cell_type": "code",
   "execution_count": 6,
   "metadata": {},
   "outputs": [
    {
     "name": "stdout",
     "output_type": "stream",
     "text": [
      "fscore: 0.7725322617119947\n",
      "precision: 0.7941770366697729\n",
      "recall: 0.7646742265907694\n"
     ]
    }
   ],
   "source": [
    "fscore, precision, recall = train_test_vw('data/cellline_test.txt', 3,\\\n",
    "                                          'learn', 'mix', 3, 0.5, 6, 4, 1)\n",
    "all_fscore.append(fscore)\n",
    "all_precision.append(precision)\n",
    "all_recall.append(recall)"
   ]
  },
  {
   "cell_type": "markdown",
   "metadata": {},
   "source": [
    "## 2.3 Cell type"
   ]
  },
  {
   "cell_type": "code",
   "execution_count": 7,
   "metadata": {},
   "outputs": [
    {
     "name": "stdout",
     "output_type": "stream",
     "text": [
      "fscore: 0.8277644303170709\n",
      "precision: 0.9258764958577999\n",
      "recall: 0.7656997730309865\n"
     ]
    }
   ],
   "source": [
    "fscore, precision, recall = train_test_vw('data/celltype_test.txt', 3,\\\n",
    "                                          'learn', 'mix', 4, 0.25, 6, 4, 1)\n",
    "all_fscore.append(fscore)\n",
    "all_precision.append(precision)\n",
    "all_recall.append(recall)"
   ]
  },
  {
   "cell_type": "markdown",
   "metadata": {},
   "source": [
    "## 2.4 RNA"
   ]
  },
  {
   "cell_type": "code",
   "execution_count": 8,
   "metadata": {},
   "outputs": [
    {
     "name": "stdout",
     "output_type": "stream",
     "text": [
      "fscore: 0.7823698643343039\n",
      "precision: 0.9510122422731455\n",
      "recall: 0.6927084789617094\n"
     ]
    }
   ],
   "source": [
    "fscore, precision, recall = train_test_vw('data/RNA_test.txt', 3,\\\n",
    "                                          'learn', 'mix', 6, 0.5, 6, 4, 1)\n",
    "all_fscore.append(fscore)\n",
    "all_precision.append(precision)\n",
    "all_recall.append(recall)"
   ]
  },
  {
   "cell_type": "markdown",
   "metadata": {},
   "source": [
    "## 2.5 DNA"
   ]
  },
  {
   "cell_type": "code",
   "execution_count": 9,
   "metadata": {},
   "outputs": [
    {
     "name": "stdout",
     "output_type": "stream",
     "text": [
      "fscore: 0.8086021654735162\n",
      "precision: 0.9182737678205113\n",
      "recall: 0.7387073097293116\n"
     ]
    }
   ],
   "source": [
    "fscore, precision, recall = train_test_vw('data/DNA_test.txt', 3,\\\n",
    "                                          'learn', 'mix', 4, 0.5, 6, 2, 1)\n",
    "all_fscore.append(fscore)\n",
    "all_precision.append(precision)\n",
    "all_recall.append(recall)"
   ]
  },
  {
   "cell_type": "markdown",
   "metadata": {},
   "source": [
    "# Collective performance of Approach 2"
   ]
  },
  {
   "cell_type": "code",
   "execution_count": 10,
   "metadata": {},
   "outputs": [
    {
     "name": "stdout",
     "output_type": "stream",
     "text": [
      "fscore: 0.7896060212731515\n",
      "precision: 0.8791370049760534\n",
      "recall: 0.7376579706689796\n"
     ]
    }
   ],
   "source": [
    "print('fscore: {}'.format(np.mean(all_fscore)))\n",
    "print('precision: {}'.format(np.mean(all_precision)))\n",
    "print('recall: {}'.format(np.mean(all_recall)))"
   ]
  }
 ],
 "metadata": {
  "kernelspec": {
   "display_name": "Python 3",
   "language": "python",
   "name": "python3"
  },
  "language_info": {
   "codemirror_mode": {
    "name": "ipython",
    "version": 3
   },
   "file_extension": ".py",
   "mimetype": "text/x-python",
   "name": "python",
   "nbconvert_exporter": "python",
   "pygments_lexer": "ipython3",
   "version": "3.6.5"
  },
  "toc": {
   "base_numbering": 1,
   "nav_menu": {},
   "number_sections": true,
   "sideBar": true,
   "skip_h1_title": false,
   "title_cell": "Table of Contents",
   "title_sidebar": "Contents",
   "toc_cell": false,
   "toc_position": {},
   "toc_section_display": true,
   "toc_window_display": false
  },
  "varInspector": {
   "cols": {
    "lenName": 16,
    "lenType": 16,
    "lenVar": 40
   },
   "kernels_config": {
    "python": {
     "delete_cmd_postfix": "",
     "delete_cmd_prefix": "del ",
     "library": "var_list.py",
     "varRefreshCmd": "print(var_dic_list())"
    },
    "r": {
     "delete_cmd_postfix": ") ",
     "delete_cmd_prefix": "rm(",
     "library": "var_list.r",
     "varRefreshCmd": "cat(var_dic_list()) "
    }
   },
   "types_to_exclude": [
    "module",
    "function",
    "builtin_function_or_method",
    "instance",
    "_Feature"
   ],
   "window_display": false
  }
 },
 "nbformat": 4,
 "nbformat_minor": 2
}
